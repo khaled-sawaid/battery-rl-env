{
  "nbformat": 4,
  "nbformat_minor": 0,
  "metadata": {
    "colab": {
      "provenance": [],
      "authorship_tag": "ABX9TyPEAO0SPPT9L5SBzKU+HuLb",
      "include_colab_link": true
    },
    "kernelspec": {
      "name": "python3",
      "display_name": "Python 3"
    },
    "language_info": {
      "name": "python"
    }
  },
  "cells": [
    {
      "cell_type": "markdown",
      "metadata": {
        "id": "view-in-github",
        "colab_type": "text"
      },
      "source": [
        "<a href=\"https://colab.research.google.com/github/khaled-sawaid/battery-rl-env/blob/main/BatteryEnv.ipynb\" target=\"_parent\"><img src=\"https://colab.research.google.com/assets/colab-badge.svg\" alt=\"Open In Colab\"/></a>"
      ]
    },
    {
      "cell_type": "markdown",
      "source": [
        "Before starting, we will clone the BatteryEnv github repo"
      ],
      "metadata": {
        "id": "4zPjzqIOljRt"
      }
    },
    {
      "cell_type": "code",
      "source": [
        "# cloning the battery env github repo so we can\n",
        "!git clone https://github.com/khaled-sawaid/battery-rl-env.git\n",
        "\n",
        "# move into the repo\n",
        "%cd battery-rl-env\n",
        "\n",
        "# install dependencies\n",
        "!pip install -r requirements.txt"
      ],
      "metadata": {
        "colab": {
          "base_uri": "https://localhost:8080/"
        },
        "collapsed": true,
        "id": "A8QN4GX1liWd",
        "outputId": "586ae2bd-69ec-44f4-de21-1d6cb7ec73c2"
      },
      "execution_count": null,
      "outputs": [
        {
          "output_type": "stream",
          "name": "stdout",
          "text": [
            "Cloning into 'battery-rl-env'...\n",
            "remote: Enumerating objects: 92, done.\u001b[K\n",
            "remote: Counting objects: 100% (92/92), done.\u001b[K\n",
            "remote: Compressing objects: 100% (74/74), done.\u001b[K\n",
            "remote: Total 92 (delta 30), reused 68 (delta 14), pack-reused 0 (from 0)\u001b[K\n",
            "Receiving objects: 100% (92/92), 5.18 MiB | 22.46 MiB/s, done.\n",
            "Resolving deltas: 100% (30/30), done.\n",
            "/content/battery-rl-env/battery-rl-env\n",
            "Requirement already satisfied: numpy in /usr/local/lib/python3.12/dist-packages (from -r requirements.txt (line 1)) (2.0.2)\n",
            "Requirement already satisfied: pandas in /usr/local/lib/python3.12/dist-packages (from -r requirements.txt (line 2)) (2.2.2)\n",
            "Requirement already satisfied: gymnasium in /usr/local/lib/python3.12/dist-packages (from -r requirements.txt (line 3)) (1.2.1)\n",
            "Collecting stable_baselines3 (from -r requirements.txt (line 4))\n",
            "  Downloading stable_baselines3-2.7.0-py3-none-any.whl.metadata (4.8 kB)\n",
            "Collecting supersuit (from -r requirements.txt (line 5))\n",
            "  Downloading supersuit-3.10.0-py3-none-any.whl.metadata (3.1 kB)\n",
            "Collecting pettingzoo (from -r requirements.txt (line 6))\n",
            "  Downloading pettingzoo-1.25.0-py3-none-any.whl.metadata (8.9 kB)\n",
            "Requirement already satisfied: python-dateutil>=2.8.2 in /usr/local/lib/python3.12/dist-packages (from pandas->-r requirements.txt (line 2)) (2.9.0.post0)\n",
            "Requirement already satisfied: pytz>=2020.1 in /usr/local/lib/python3.12/dist-packages (from pandas->-r requirements.txt (line 2)) (2025.2)\n",
            "Requirement already satisfied: tzdata>=2022.7 in /usr/local/lib/python3.12/dist-packages (from pandas->-r requirements.txt (line 2)) (2025.2)\n",
            "Requirement already satisfied: cloudpickle>=1.2.0 in /usr/local/lib/python3.12/dist-packages (from gymnasium->-r requirements.txt (line 3)) (3.1.1)\n",
            "Requirement already satisfied: typing-extensions>=4.3.0 in /usr/local/lib/python3.12/dist-packages (from gymnasium->-r requirements.txt (line 3)) (4.15.0)\n",
            "Requirement already satisfied: farama-notifications>=0.0.1 in /usr/local/lib/python3.12/dist-packages (from gymnasium->-r requirements.txt (line 3)) (0.0.4)\n",
            "Requirement already satisfied: torch<3.0,>=2.3 in /usr/local/lib/python3.12/dist-packages (from stable_baselines3->-r requirements.txt (line 4)) (2.8.0+cu126)\n",
            "Requirement already satisfied: matplotlib in /usr/local/lib/python3.12/dist-packages (from stable_baselines3->-r requirements.txt (line 4)) (3.10.0)\n",
            "Collecting tinyscaler>=1.2.6 (from supersuit->-r requirements.txt (line 5))\n",
            "  Downloading tinyscaler-1.2.8-cp312-cp312-manylinux_2_17_x86_64.manylinux2014_x86_64.whl.metadata (4.2 kB)\n",
            "Requirement already satisfied: six>=1.5 in /usr/local/lib/python3.12/dist-packages (from python-dateutil>=2.8.2->pandas->-r requirements.txt (line 2)) (1.17.0)\n",
            "Requirement already satisfied: filelock in /usr/local/lib/python3.12/dist-packages (from torch<3.0,>=2.3->stable_baselines3->-r requirements.txt (line 4)) (3.20.0)\n",
            "Requirement already satisfied: setuptools in /usr/local/lib/python3.12/dist-packages (from torch<3.0,>=2.3->stable_baselines3->-r requirements.txt (line 4)) (75.2.0)\n",
            "Requirement already satisfied: sympy>=1.13.3 in /usr/local/lib/python3.12/dist-packages (from torch<3.0,>=2.3->stable_baselines3->-r requirements.txt (line 4)) (1.13.3)\n",
            "Requirement already satisfied: networkx in /usr/local/lib/python3.12/dist-packages (from torch<3.0,>=2.3->stable_baselines3->-r requirements.txt (line 4)) (3.5)\n",
            "Requirement already satisfied: jinja2 in /usr/local/lib/python3.12/dist-packages (from torch<3.0,>=2.3->stable_baselines3->-r requirements.txt (line 4)) (3.1.6)\n",
            "Requirement already satisfied: fsspec in /usr/local/lib/python3.12/dist-packages (from torch<3.0,>=2.3->stable_baselines3->-r requirements.txt (line 4)) (2025.3.0)\n",
            "Requirement already satisfied: nvidia-cuda-nvrtc-cu12==12.6.77 in /usr/local/lib/python3.12/dist-packages (from torch<3.0,>=2.3->stable_baselines3->-r requirements.txt (line 4)) (12.6.77)\n",
            "Requirement already satisfied: nvidia-cuda-runtime-cu12==12.6.77 in /usr/local/lib/python3.12/dist-packages (from torch<3.0,>=2.3->stable_baselines3->-r requirements.txt (line 4)) (12.6.77)\n",
            "Requirement already satisfied: nvidia-cuda-cupti-cu12==12.6.80 in /usr/local/lib/python3.12/dist-packages (from torch<3.0,>=2.3->stable_baselines3->-r requirements.txt (line 4)) (12.6.80)\n",
            "Requirement already satisfied: nvidia-cudnn-cu12==9.10.2.21 in /usr/local/lib/python3.12/dist-packages (from torch<3.0,>=2.3->stable_baselines3->-r requirements.txt (line 4)) (9.10.2.21)\n",
            "Requirement already satisfied: nvidia-cublas-cu12==12.6.4.1 in /usr/local/lib/python3.12/dist-packages (from torch<3.0,>=2.3->stable_baselines3->-r requirements.txt (line 4)) (12.6.4.1)\n",
            "Requirement already satisfied: nvidia-cufft-cu12==11.3.0.4 in /usr/local/lib/python3.12/dist-packages (from torch<3.0,>=2.3->stable_baselines3->-r requirements.txt (line 4)) (11.3.0.4)\n",
            "Requirement already satisfied: nvidia-curand-cu12==10.3.7.77 in /usr/local/lib/python3.12/dist-packages (from torch<3.0,>=2.3->stable_baselines3->-r requirements.txt (line 4)) (10.3.7.77)\n",
            "Requirement already satisfied: nvidia-cusolver-cu12==11.7.1.2 in /usr/local/lib/python3.12/dist-packages (from torch<3.0,>=2.3->stable_baselines3->-r requirements.txt (line 4)) (11.7.1.2)\n",
            "Requirement already satisfied: nvidia-cusparse-cu12==12.5.4.2 in /usr/local/lib/python3.12/dist-packages (from torch<3.0,>=2.3->stable_baselines3->-r requirements.txt (line 4)) (12.5.4.2)\n",
            "Requirement already satisfied: nvidia-cusparselt-cu12==0.7.1 in /usr/local/lib/python3.12/dist-packages (from torch<3.0,>=2.3->stable_baselines3->-r requirements.txt (line 4)) (0.7.1)\n",
            "Requirement already satisfied: nvidia-nccl-cu12==2.27.3 in /usr/local/lib/python3.12/dist-packages (from torch<3.0,>=2.3->stable_baselines3->-r requirements.txt (line 4)) (2.27.3)\n",
            "Requirement already satisfied: nvidia-nvtx-cu12==12.6.77 in /usr/local/lib/python3.12/dist-packages (from torch<3.0,>=2.3->stable_baselines3->-r requirements.txt (line 4)) (12.6.77)\n",
            "Requirement already satisfied: nvidia-nvjitlink-cu12==12.6.85 in /usr/local/lib/python3.12/dist-packages (from torch<3.0,>=2.3->stable_baselines3->-r requirements.txt (line 4)) (12.6.85)\n",
            "Requirement already satisfied: nvidia-cufile-cu12==1.11.1.6 in /usr/local/lib/python3.12/dist-packages (from torch<3.0,>=2.3->stable_baselines3->-r requirements.txt (line 4)) (1.11.1.6)\n",
            "Requirement already satisfied: triton==3.4.0 in /usr/local/lib/python3.12/dist-packages (from torch<3.0,>=2.3->stable_baselines3->-r requirements.txt (line 4)) (3.4.0)\n",
            "Requirement already satisfied: contourpy>=1.0.1 in /usr/local/lib/python3.12/dist-packages (from matplotlib->stable_baselines3->-r requirements.txt (line 4)) (1.3.3)\n",
            "Requirement already satisfied: cycler>=0.10 in /usr/local/lib/python3.12/dist-packages (from matplotlib->stable_baselines3->-r requirements.txt (line 4)) (0.12.1)\n",
            "Requirement already satisfied: fonttools>=4.22.0 in /usr/local/lib/python3.12/dist-packages (from matplotlib->stable_baselines3->-r requirements.txt (line 4)) (4.60.1)\n",
            "Requirement already satisfied: kiwisolver>=1.3.1 in /usr/local/lib/python3.12/dist-packages (from matplotlib->stable_baselines3->-r requirements.txt (line 4)) (1.4.9)\n",
            "Requirement already satisfied: packaging>=20.0 in /usr/local/lib/python3.12/dist-packages (from matplotlib->stable_baselines3->-r requirements.txt (line 4)) (25.0)\n",
            "Requirement already satisfied: pillow>=8 in /usr/local/lib/python3.12/dist-packages (from matplotlib->stable_baselines3->-r requirements.txt (line 4)) (11.3.0)\n",
            "Requirement already satisfied: pyparsing>=2.3.1 in /usr/local/lib/python3.12/dist-packages (from matplotlib->stable_baselines3->-r requirements.txt (line 4)) (3.2.5)\n",
            "Requirement already satisfied: mpmath<1.4,>=1.1.0 in /usr/local/lib/python3.12/dist-packages (from sympy>=1.13.3->torch<3.0,>=2.3->stable_baselines3->-r requirements.txt (line 4)) (1.3.0)\n",
            "Requirement already satisfied: MarkupSafe>=2.0 in /usr/local/lib/python3.12/dist-packages (from jinja2->torch<3.0,>=2.3->stable_baselines3->-r requirements.txt (line 4)) (3.0.3)\n",
            "Downloading stable_baselines3-2.7.0-py3-none-any.whl (187 kB)\n",
            "\u001b[2K   \u001b[90m━━━━━━━━━━━━━━━━━━━━━━━━━━━━━━━━━━━━━━━━\u001b[0m \u001b[32m187.2/187.2 kB\u001b[0m \u001b[31m5.0 MB/s\u001b[0m eta \u001b[36m0:00:00\u001b[0m\n",
            "\u001b[?25hDownloading supersuit-3.10.0-py3-none-any.whl (50 kB)\n",
            "\u001b[2K   \u001b[90m━━━━━━━━━━━━━━━━━━━━━━━━━━━━━━━━━━━━━━━━\u001b[0m \u001b[32m50.2/50.2 kB\u001b[0m \u001b[31m4.3 MB/s\u001b[0m eta \u001b[36m0:00:00\u001b[0m\n",
            "\u001b[?25hDownloading pettingzoo-1.25.0-py3-none-any.whl (852 kB)\n",
            "\u001b[2K   \u001b[90m━━━━━━━━━━━━━━━━━━━━━━━━━━━━━━━━━━━━━━━━\u001b[0m \u001b[32m852.5/852.5 kB\u001b[0m \u001b[31m27.8 MB/s\u001b[0m eta \u001b[36m0:00:00\u001b[0m\n",
            "\u001b[?25hDownloading tinyscaler-1.2.8-cp312-cp312-manylinux_2_17_x86_64.manylinux2014_x86_64.whl (563 kB)\n",
            "\u001b[2K   \u001b[90m━━━━━━━━━━━━━━━━━━━━━━━━━━━━━━━━━━━━━━━━\u001b[0m \u001b[32m563.6/563.6 kB\u001b[0m \u001b[31m40.0 MB/s\u001b[0m eta \u001b[36m0:00:00\u001b[0m\n",
            "\u001b[?25hInstalling collected packages: tinyscaler, supersuit, pettingzoo, stable_baselines3\n",
            "Successfully installed pettingzoo-1.25.0 stable_baselines3-2.7.0 supersuit-3.10.0 tinyscaler-1.2.8\n"
          ]
        }
      ]
    },
    {
      "cell_type": "markdown",
      "source": [
        "# BatteryEnv — Environment Overview\n",
        "\n",
        "This notebook section documents the custom Gymnasium environment **`BatteryEnv`** used for battery arbitrage with real  electricity prices.\n",
        "\n",
        "---\n",
        "\n",
        "## What is being learned?\n",
        "\n",
        "An agent controls a battery that can **charge** when prices are low and **discharge** when prices are high. The goal is to **maximize profit** over an episode.\n",
        "\n",
        "---\n",
        "\n",
        "## Observation, Action, Reward\n",
        "\n",
        "### Observation `obs ∈ ℝ^2` (default)\n",
        "1. **`battery_pct`** ∈ [0, 1] — state of charge (SoC) as a fraction of max capacity.  \n",
        "2. **`current_price`** — energy price at the current step (currency/kWh).  \n",
        "   - Negative prices are allowed (e.g., oversupply markets).\n",
        "\n",
        "> *(Optional future extension)*: add time features like `sin(hour*2π/24)` and `cos(hour*2π/24)` to help the agent learn daily cycles - can be easily implemented thanks to very nice datasets\n",
        "\n",
        "### Action\n",
        "- **Continuous mode (`continuous_action=True`)**:  \n",
        "  `a ∈ [-1, 1]`  \n",
        "  - `a >= 0` ⇒ **charge** with power `a * max_charge_rate_kw`  \n",
        "  - `a < 0` ⇒ **discharge** with power `|a| * max_discharge_rate_kw`  \n",
        "  - Internally converted to energy per step using `step_hours` (kw * h = kwh).\n",
        "\n",
        "- **Discrete mode (`continuous_action=False`)**:  \n",
        "  `a ∈ {0, 1, 2}` mapped to {**discharge**, **hold**, **charge**} at the **max** rates.\n",
        "\n",
        "### Reward (per step)\n",
        "`reward = revenue_from_energy_sold − cost_of_energy_bought`\n",
        "\n",
        "- **Charging**: pay `requested_kWh * price`. Charging suffers **one-way efficiency** (you pay input kWh; less is stored).  \n",
        "- **Discharging**: you **sell** `battery_out_kWh * discharge_efficiency` at the current price.  \n",
        "- The environment enforces **capacity** and **rate** constraints; any infeasible portion of the requested action is clipped (for example, if you charge more than you can store, you will charge only what you can store and pay only for that).\n",
        "\n",
        "> **Intuition:** If prices go up later, you profit by charging now and discharging later. If prices are low or negative, charging is encouraged.\n",
        "\n",
        "---\n",
        "\n",
        "## Episode Mechanics\n",
        "\n",
        "- Each episode has `episode_length` steps.  \n",
        "- Each step advances time by `step_hours` (e.g., 1 hour ⇒ a 24-h daily episode).  \n",
        "- The episode starts at a (possibly random) index into the `price_series`.  \n",
        "- Termination occurs after `episode_length` steps.  \n",
        "- `info[\"cumulative_profit\"]` tracks total profit for the episode.\n",
        "\n",
        "---\n",
        "\n",
        "## Core Parameters (all easily tweakable)\n",
        "\n",
        "| Parameter | Meaning | Typical Values |\n",
        "|---|---|---|\n",
        "| `price_series` | 1-D array of prices (currency/kWh) | **Required** |\n",
        "| `episode_length` | # of steps per episode | 24, 48 |\n",
        "| `step_hours` | Hours per step | 0.5, 1.0 |\n",
        "| `max_capacity_kwh` / `min_capacity_kwh` | Battery energy bounds | 100 / 0 |\n",
        "| `max_charge_rate_kw` / `max_discharge_rate_kw` | Power limits | 25 / 25 |\n",
        "| `initial_soc_frac` | Start SoC as fraction of max | 0.5 |\n",
        "| `charge_efficiency` / `discharge_efficiency` | One-way efficiencies | 0.95 / 0.95 |\n",
        "| `continuous_action` | Continuous vs. discrete control | `True` / `False` |\n",
        "| `seed` | RNG seed for reproducibility | e.g., 42 |\n",
        "\n",
        "**Notes & Constraints**\n",
        "- `price_series` must be at least `episode_length` long, 1-D, without NaNs.  \n",
        "- Efficiencies must be in `(0, 1]`.  \n",
        "- `min_capacity_kwh < max_capacity_kwh`.  \n",
        "- Negative prices are supported.\n",
        "- All parametes values can be set when initialising the class\n",
        "\n",
        "---\n",
        "\n",
        "## How to tweak behavior\n",
        "\n",
        "- **Use different datasets:** just pass a new `price_series` array.  \n",
        "- **Change horizon:** set `episode_length` and `step_hours` for 24h vs. 48h, etc.  \n",
        "- **Battery dynamics:** modify capacity, rates, and (dis)charge efficiencies.  \n",
        "- **Action space:** toggle `continuous_action` to switch between continuous and discrete control.  \n",
        "- **Reproducibility:** set `seed` at env construction (and in the RL algorithm).\n",
        "\n",
        "> **Future To-Do:** Add **time-of-day** features (e.g., `sin/cos`) to the observation. This is straightforward with the current dataset and typically improves learning of daily price cycles.\n",
        "\n",
        "> Note:\n",
        "The environment’s dynamics are Markovian (next state depends only on current state and action),\n",
        "but the agent’s observation, battery charge and current price, is partially observable.\n",
        "The agent does not directly observe the time-of-day or future price context, so the task can be seen as a partially observable MDP from the agent’s perspective.\n",
        "Adding time features (sin, cos) in future work would help make the observations more informative.\n",
        "\n",
        "---\n",
        "\n",
        "## Quickstart (minimal code)\n",
        "(run the code below multiple times to see different results)"
      ],
      "metadata": {
        "id": "dTRDWuxeXuQ6"
      }
    },
    {
      "cell_type": "code",
      "execution_count": null,
      "metadata": {
        "colab": {
          "base_uri": "https://localhost:8080/"
        },
        "id": "1rlSvyZgVUaH",
        "outputId": "157f5d5f-a195-409a-b34f-27ba8c783f9f",
        "collapsed": true
      },
      "outputs": [
        {
          "output_type": "stream",
          "name": "stdout",
          "text": [
            "Episode return: -1.0912872822189266 | Final SoC: 0.8310473706573248 | Cumulative profit: -1.0912872822189266\n"
          ]
        }
      ],
      "source": [
        "import numpy as np\n",
        "import pandas as pd\n",
        "from envs.single_agent import BatteryEnv\n",
        "\n",
        "# Load prices (EUR/MWh -> EUR/kWh)\n",
        "COL = \"Day-ahead Price (EUR/MWh)\"\n",
        "prices_mwh = pd.read_csv(\"datasets/energy_prices_2024_france.csv\", usecols=[COL])[COL]\n",
        "prices_kwh = (pd.to_numeric(prices_mwh, errors=\"coerce\").dropna() / 1000.0).to_numpy(np.float32)\n",
        "\n",
        "# Construct environment (continuous control)\n",
        "env = BatteryEnv(\n",
        "    price_series=prices_kwh,\n",
        "    episode_length=24,\n",
        "    step_hours=1.0,\n",
        "    max_capacity_kwh=100.0,\n",
        "    min_capacity_kwh=0.0,\n",
        "    max_charge_rate_kw=25.0,\n",
        "    max_discharge_rate_kw=25.0,\n",
        "    initial_soc_frac=0.5,\n",
        "    charge_efficiency=0.95,\n",
        "    discharge_efficiency=0.95,\n",
        "    continuous_action=True,\n",
        "    seed=42,\n",
        ")\n",
        "\n",
        "# Run a single episode with random actions\n",
        "obs, info = env.reset()\n",
        "done = False\n",
        "ep_return = 0.0\n",
        "while not done:\n",
        "    action = env.action_space.sample()   # replace with your policy later\n",
        "    obs, reward, terminated, truncated, info = env.step(action)\n",
        "    ep_return += reward\n",
        "    done = terminated or truncated\n",
        "\n",
        "print(\"Episode return:\", ep_return, \"| Final SoC:\", info[\"battery_pct\"], \"| Cumulative profit:\", info[\"cumulative_profit\"])"
      ]
    },
    {
      "cell_type": "code",
      "source": [],
      "metadata": {
        "id": "-hZ_IBu-V3Gj"
      },
      "execution_count": null,
      "outputs": []
    }
  ]
}